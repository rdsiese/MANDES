{
  "cells": [
    {
      "cell_type": "markdown",
      "metadata": {
        "id": "view-in-github",
        "colab_type": "text"
      },
      "source": [
        "<a href=\"https://colab.research.google.com/github/rdsiese/MANDES/blob/main/3_Brownian_paths.ipynb\" target=\"_parent\"><img src=\"https://colab.research.google.com/assets/colab-badge.svg\" alt=\"Open In Colab\"/></a>"
      ]
    },
    {
      "cell_type": "markdown",
      "id": "33b4571b-c7d6-405a-a067-b95b8765d3ff",
      "metadata": {
        "id": "33b4571b-c7d6-405a-a067-b95b8765d3ff"
      },
      "source": [
        "# Generating Paths for the Underlying"
      ]
    },
    {
      "cell_type": "markdown",
      "id": "c46af43f",
      "metadata": {
        "id": "c46af43f"
      },
      "source": [
        "To compute the price of path-dependent options, we first need to generate the paths of the underlying's price.\n",
        "\n",
        "These paths combine an exponential (geometric) trend with a 'noise' around that trend. This noise is what we call Brownian motion. When added to the exponential trend, the outcome is called geometric Brownian motion."
      ]
    },
    {
      "cell_type": "code",
      "execution_count": null,
      "id": "baac222f",
      "metadata": {
        "id": "baac222f"
      },
      "outputs": [],
      "source": [
        "import numpy as np\n",
        "from matplotlib import pyplot as plt\n",
        "\n",
        "S0=100; K=105; r=0.05; sigma=0.2; T=1"
      ]
    },
    {
      "cell_type": "markdown",
      "id": "8e4eeb14",
      "metadata": {
        "id": "8e4eeb14"
      },
      "source": [
        "To simulate the evolution of the underlying's price, we need to divide time to maturity (T) in steps. For example, if steps=12, then we will be modeling the evolution of the underlying's price monthly. If steps=4, we will model quarterly prices. If steps are 252, we will model the evolution of the prices daily (there are rougly 252 trading days in a year).\n",
        "\n",
        "When modeling the underlying's price, randomness will come from a Brownian motion, which we will denote as $\\{W_t\\}_{t=0}^T$. It will start at $0$ and its successive increments will come from independent (standard) normal random variables in the following way: $W_t=W_{t-1}+\\sqrt{t}N(0,1)$. That is:\n",
        "\n",
        "$W_0=0,\\ \\ W_1=N(0,1),\\ \\ W_2=W_1+N(0,\\sqrt{2}),\\ \\ W_3=W_2+N(0,\\sqrt{3}),\\ \\ \\ \\ W_4=W_3+N(0,\\sqrt{4}), ...$\n",
        "\n",
        "The following code generates a Brownian motion path.  "
      ]
    },
    {
      "cell_type": "code",
      "execution_count": null,
      "id": "2d32c188",
      "metadata": {
        "id": "2d32c188"
      },
      "outputs": [],
      "source": [
        "steps = 252\n",
        "brownian = np.zeros(steps+1)\n",
        "z = np.random.normal(0,1,steps)\n",
        "\n",
        "for j in range(1, steps+1):\n",
        "    brownian[j] = brownian[j-1] + np.sqrt(T/steps)*z[j-1]\n",
        "\n",
        "plt.figure(figsize=(7, 3))\n",
        "plt.plot(np.linspace(0, T, steps+1), brownian)\n",
        "plt.axhline(y=0, color='black', linestyle='--', linewidth=0.7)\n",
        "plt.xlim(left=0, right=T)\n",
        "plt.title('A Brownian motion path')\n",
        "plt.xlabel('Time');"
      ]
    },
    {
      "cell_type": "markdown",
      "id": "d0b693ee-3e5d-4d9d-ac2c-6e6ba8fd8b9e",
      "metadata": {
        "id": "d0b693ee-3e5d-4d9d-ac2c-6e6ba8fd8b9e"
      },
      "source": [
        "Under the risk-neutral measure, the stock price at time $t$ is given by $S_t=S_0 e^{(r-\\sigma^2/2)t+\\sigma W_t}$, where $W_t$ is a Brownian motion. In this case, the step size is '$T$/steps'. For example, step $j$ corresponds to '$j T$/steps'.\n",
        "\n",
        "The dashed line represents the strike $K$, so it is easy to observe whether the option ends up in- or out-of-the money at maturity."
      ]
    },
    {
      "cell_type": "code",
      "execution_count": null,
      "id": "935fe2ce-c79e-4bed-9317-e43516f3f60d",
      "metadata": {
        "tags": [],
        "id": "935fe2ce-c79e-4bed-9317-e43516f3f60d"
      },
      "outputs": [],
      "source": [
        "steps = 252\n",
        "brownian = np.zeros(steps+1)\n",
        "S = np.zeros(steps+1)\n",
        "S[0] = S0\n",
        "\n",
        "z = np.random.normal(0,1,steps)\n",
        "\n",
        "for j in range(1, steps+1):\n",
        "    brownian[j] = brownian[j-1] + np.sqrt(T/steps)*z[j-1]\n",
        "    S[j] = S0*np.exp((r-0.5*sigma**2)*(j*T/steps)+sigma*brownian[j])\n",
        "\n",
        "plt.figure(figsize=(7, 3))\n",
        "plt.plot(np.linspace(0, T, steps+1), S)\n",
        "plt.axhline(y=K, color='black', linestyle='--', linewidth=0.7)\n",
        "\n",
        "plt.xlim(left=0, right=T)\n",
        "plt.title('Stock Price')\n",
        "plt.xlabel('Time');\n"
      ]
    },
    {
      "cell_type": "markdown",
      "id": "4175feff-072d-40e6-a7d9-ba43059a11a6",
      "metadata": {
        "id": "4175feff-072d-40e6-a7d9-ba43059a11a6"
      },
      "source": [
        "You may now try to change the number of steps to 500, and the strike to 95 or 110, and the volatility to 0.15 or to 0.3."
      ]
    },
    {
      "cell_type": "markdown",
      "id": "b1a8334a",
      "metadata": {
        "id": "b1a8334a"
      },
      "source": [
        "The following code builds aupon the previous one to display several paths in the same graph."
      ]
    },
    {
      "cell_type": "code",
      "execution_count": null,
      "id": "1619aead",
      "metadata": {
        "id": "1619aead"
      },
      "outputs": [],
      "source": [
        "num_paths = 3\n",
        "plt.figure(figsize=(7, 4))\n",
        "plt.title(f'%d Paths of the Stock Price' % num_paths)\n",
        "plt.xlim(left=0, right=T)\n",
        "\n",
        "for _ in range(num_paths):\n",
        "    brownian = np.zeros(steps + 1)\n",
        "    S = np.zeros(steps + 1)\n",
        "    S[0] = S0\n",
        "    z = np.random.normal(0, 1, steps)\n",
        "\n",
        "    for j in range(1, steps+1):\n",
        "        brownian[j] = brownian[j-1] + np.sqrt(T/(steps)) * z[j-1]\n",
        "        S[j] = S0*np.exp((r-0.5*sigma**2) * (j*T/steps) + sigma*brownian[j])\n",
        "\n",
        "    plt.plot(np.linspace(0, T, steps + 1), S);"
      ]
    }
  ],
  "metadata": {
    "kernelspec": {
      "display_name": "Python 3 (ipykernel)",
      "language": "python",
      "name": "python3"
    },
    "language_info": {
      "codemirror_mode": {
        "name": "ipython",
        "version": 3
      },
      "file_extension": ".py",
      "mimetype": "text/x-python",
      "name": "python",
      "nbconvert_exporter": "python",
      "pygments_lexer": "ipython3",
      "version": "3.11.5"
    },
    "toc-autonumbering": false,
    "colab": {
      "provenance": [],
      "include_colab_link": true
    }
  },
  "nbformat": 4,
  "nbformat_minor": 5
}