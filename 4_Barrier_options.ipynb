{
  "cells": [
    {
      "cell_type": "markdown",
      "metadata": {
        "id": "view-in-github",
        "colab_type": "text"
      },
      "source": [
        "<a href=\"https://colab.research.google.com/github/rdsiese/MANDES/blob/main/4_Barrier_options.ipynb\" target=\"_parent\"><img src=\"https://colab.research.google.com/assets/colab-badge.svg\" alt=\"Open In Colab\"/></a>"
      ]
    },
    {
      "cell_type": "markdown",
      "id": "33b4571b-c7d6-405a-a067-b95b8765d3ff",
      "metadata": {
        "id": "33b4571b-c7d6-405a-a067-b95b8765d3ff"
      },
      "source": [
        "# Barrier Options"
      ]
    },
    {
      "cell_type": "markdown",
      "id": "c46af43f",
      "metadata": {
        "id": "c46af43f"
      },
      "source": [
        "The payoff of a path-dependent option depends on the evolution of the underlying’s price during the life of the option, not just at maturity $𝑇$.\n",
        "\n",
        "In a barrier option, the payoff depends on whether a given price level (**barrier**) was reached or not by the underlying before maturity.\n",
        "\n",
        "A **knock-in option** can be exercised if the asset price reached the barrier before $𝑇$.\n",
        "\n",
        "A **knock-out option** can be exercised if the asset price never reached the barrier before $𝑇$."
      ]
    },
    {
      "cell_type": "markdown",
      "id": "45399c6b",
      "metadata": {
        "id": "45399c6b"
      },
      "source": [
        "Knock-out options can be down-and-out or up-and-out.\n",
        "\n",
        "The payoff of an **up-and-out** option is $\\max(S_t-K,0)$ if the underlying's price never reaches the barrier during the option's life; otherwise, the payoff is $0$."
      ]
    },
    {
      "cell_type": "code",
      "execution_count": null,
      "id": "9ee16133",
      "metadata": {
        "id": "9ee16133"
      },
      "outputs": [],
      "source": [
        "import numpy as np\n",
        "\n",
        "S0=100; r=0.05; sigma=0.2; T=1"
      ]
    },
    {
      "cell_type": "markdown",
      "id": "b52f2ab0",
      "metadata": {
        "id": "b52f2ab0"
      },
      "source": [
        "To get an idea of how the code works, we will initially divide the option's life in 4 steps, and only consider 3 paths of the underlying's price. We first set up the \"containers\" that will hold the values for the Brownian motion ($\\texttt{brownian}$), sthe stock price ($\\texttt{S}$) and the payoff ($\\texttt{payoff}$). We set the initial value of the stock price to be $S_0$."
      ]
    },
    {
      "cell_type": "code",
      "execution_count": null,
      "id": "58395641",
      "metadata": {
        "id": "58395641"
      },
      "outputs": [],
      "source": [
        "brownian=np.zeros([3,5])\n",
        "S=np.zeros([3,5])\n",
        "payoff=np.zeros(3)\n",
        "\n",
        "S[:,0]=S0"
      ]
    },
    {
      "cell_type": "markdown",
      "id": "d639ea9d",
      "metadata": {
        "id": "d639ea9d"
      },
      "source": [
        "The following command generates the samples from the Normal random variables for each path. Execute the code several times to see how the values o z change.  "
      ]
    },
    {
      "cell_type": "code",
      "execution_count": null,
      "id": "f0b39dd2",
      "metadata": {
        "id": "f0b39dd2"
      },
      "outputs": [],
      "source": [
        "z=np.random.normal(0,1,[3,4])\n",
        "z"
      ]
    },
    {
      "cell_type": "markdown",
      "id": "651f5cd8",
      "metadata": {
        "id": "651f5cd8"
      },
      "source": [
        "The following code computes 3 paths of the underlying. A more streamlined version could be written defining a function. The code below is meant to facilitate the class presentation.   "
      ]
    },
    {
      "cell_type": "code",
      "execution_count": null,
      "id": "10a88a3c",
      "metadata": {
        "id": "10a88a3c"
      },
      "outputs": [],
      "source": [
        "brownian=np.zeros([3,5])\n",
        "S=np.zeros([3,5])\n",
        "payoff=np.zeros(3)\n",
        "\n",
        "S[:,0]=S0\n",
        "z=np.random.normal(0,1,[3,4])\n",
        "\n",
        "for i in range(0,3):\n",
        "    for j in range(1, 5):\n",
        "        brownian[i,j]=brownian[i,j-1] + np.sqrt(T/4)*z[i,j-1]\n",
        "        S[i,j] = S0*np.exp((r-0.5*sigma**2)*(j*T/4)+sigma*brownian[i,j])\n",
        "\n",
        "S.round(4)"
      ]
    },
    {
      "cell_type": "code",
      "execution_count": null,
      "id": "21ff87e2",
      "metadata": {
        "id": "21ff87e2"
      },
      "outputs": [],
      "source": [
        "barrier = 110; K = 80\n",
        "z=np.random.normal(0,1,[3,4])\n",
        "\n",
        "for i in range(0,3):\n",
        "    for j in range(1, 5):\n",
        "        brownian[i,j]=brownian[i,j-1] + np.sqrt(T/4)*z[i,j-1]\n",
        "        S[i,j] = S0*np.exp((r-0.5*sigma**2)*(j*T/4)+sigma*brownian[i,j])\n",
        "\n",
        "        if np.max(S[i,:]) > barrier:  # Check if barrier was reached in path\n",
        "            payoff[i] = 0\n",
        "        else:\n",
        "            payoff[i] = np.maximum(S[i,4]-K, 0)\n",
        "\n",
        "print(f'S:\\n{S.round(4)} \\n\\nPayoff: {payoff.round(4)}')"
      ]
    },
    {
      "cell_type": "markdown",
      "id": "ffcb0f9b",
      "metadata": {
        "id": "ffcb0f9b"
      },
      "source": [
        "We now divide the option's life in 300 steps and consider $1,000$ paths.\n",
        "\n",
        "We only need to add two new lines to compute: (a) the discounted value of the mean payoff, and (b) the mean standard error."
      ]
    },
    {
      "cell_type": "code",
      "execution_count": null,
      "id": "7e90f45a",
      "metadata": {
        "id": "7e90f45a"
      },
      "outputs": [],
      "source": [
        "steps = 300; n = 1000; barrier = 110; K = 90\n",
        "\n",
        "z=np.random.normal(0,1,[n,steps])\n",
        "brownian=np.zeros([n,steps+1])\n",
        "S=np.zeros([n,steps+1])\n",
        "payoff=np.zeros(n)\n",
        "\n",
        "S[:,0]=S0\n",
        "\n",
        "for i in range(0,n):\n",
        "    for j in range(1, steps+1):\n",
        "        brownian[i,j]=brownian[i,j-1] + np.sqrt(T/steps)*z[i,j-1]\n",
        "        S[i,j] = S0*np.exp((r-0.5*sigma**2)*(j*T/steps)+sigma*brownian[i,j])\n",
        "    if np.max(S[i,:]) > barrier:                             # Check if barrier was reached in path\n",
        "        payoff[i] = 0\n",
        "    else:\n",
        "        payoff[i] = np.maximum(S[i,steps]-K, 0)\n",
        "\n",
        "KOprice = np.exp(-r*T)*np.mean(payoff)\n",
        "mse = np.std(payoff) / np.sqrt(n)\n",
        "\n",
        "print(f'price: {KOprice:<12.5f} mse: {mse:<10.3f} barrier: {barrier:<7} mse/price: {mse/KOprice:.3f}')\n",
        "\n"
      ]
    },
    {
      "cell_type": "markdown",
      "id": "7a2113dd",
      "metadata": {
        "id": "7a2113dd"
      },
      "source": [
        "We finally extend the code to compute the barrier option's price for different values of the barrier.\n",
        "\n",
        "Being an **up-and-out** option, the higher the barrier, the closer is price will be to a vanilla call.   \n",
        "  "
      ]
    },
    {
      "cell_type": "code",
      "execution_count": null,
      "id": "376f47d5",
      "metadata": {
        "id": "376f47d5"
      },
      "outputs": [],
      "source": [
        "steps = 300; n = 1000; K = 90\n",
        "\n",
        "for barrier in[110, 120, 140, 160, 180, 200]:\n",
        "    z=np.random.normal(0,1,[n,steps])\n",
        "    brownian=np.zeros([n,steps+1])\n",
        "    S=np.zeros([n,steps+1])\n",
        "    payoff=np.zeros(n)\n",
        "\n",
        "    S[:,0]=S0\n",
        "\n",
        "    for i in range(0,n):\n",
        "        for j in range(1, steps+1):\n",
        "            brownian[i,j]=brownian[i,j-1] + np.sqrt(T/steps)*z[i,j-1]\n",
        "            S[i,j] = S0*np.exp((r-0.5*sigma**2)*(j*T/steps)+sigma*brownian[i,j])\n",
        "        if np.max(S[i,:]) > barrier:  # Check if barrier was reached in path\n",
        "            payoff[i] = 0\n",
        "        else:\n",
        "            payoff[i] = np.maximum(S[i,steps]-K, 0)\n",
        "\n",
        "    KOprice = np.exp(-r*T)*np.mean(payoff)\n",
        "    mse = np.std(payoff) / np.sqrt(n)\n",
        "\n",
        "    print(f'price: {KOprice:<12.5f} mse: {mse:<10.3f} b: {barrier:<7} mse/price: {mse/KOprice:.3f}')"
      ]
    },
    {
      "cell_type": "markdown",
      "id": "df9678d7",
      "metadata": {
        "id": "df9678d7"
      },
      "source": [
        "The MSE is high, because the sample size is low ($n=1,000$). Execute the code again with $n=10,000$ and $n=20,000$.  \n",
        "\n",
        "By changing the payoff, the above method can be applied to other path-dependent options, like lookback or Asian options."
      ]
    }
  ],
  "metadata": {
    "kernelspec": {
      "display_name": "Python 3 (ipykernel)",
      "language": "python",
      "name": "python3"
    },
    "language_info": {
      "codemirror_mode": {
        "name": "ipython",
        "version": 3
      },
      "file_extension": ".py",
      "mimetype": "text/x-python",
      "name": "python",
      "nbconvert_exporter": "python",
      "pygments_lexer": "ipython3",
      "version": "3.9.16"
    },
    "toc-autonumbering": false,
    "colab": {
      "provenance": [],
      "include_colab_link": true
    }
  },
  "nbformat": 4,
  "nbformat_minor": 5
}