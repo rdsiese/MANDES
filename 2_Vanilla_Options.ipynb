{
  "cells": [
    {
      "cell_type": "markdown",
      "metadata": {
        "id": "view-in-github",
        "colab_type": "text"
      },
      "source": [
        "<a href=\"https://colab.research.google.com/github/rdsiese/MANDES/blob/main/2_Vanilla_Options.ipynb\" target=\"_parent\"><img src=\"https://colab.research.google.com/assets/colab-badge.svg\" alt=\"Open In Colab\"/></a>"
      ]
    },
    {
      "cell_type": "markdown",
      "id": "33b4571b-c7d6-405a-a067-b95b8765d3ff",
      "metadata": {
        "id": "33b4571b-c7d6-405a-a067-b95b8765d3ff"
      },
      "source": [
        "# Pricing Vanilla Options"
      ]
    },
    {
      "cell_type": "markdown",
      "id": "5d21ca76-7416-4dd7-a193-b1c2d5ced2ab",
      "metadata": {
        "id": "5d21ca76-7416-4dd7-a193-b1c2d5ced2ab"
      },
      "source": [
        "### (1) The Black-Scholes Formula"
      ]
    },
    {
      "cell_type": "markdown",
      "id": "c46af43f",
      "metadata": {
        "id": "c46af43f"
      },
      "source": [
        "In what follows, we use the following parameters: $S_0 = 100$, $K = 100$, $r=0.05$, $\\sigma=0.2$ and $T=1$."
      ]
    },
    {
      "cell_type": "code",
      "execution_count": null,
      "id": "baac222f",
      "metadata": {
        "id": "baac222f"
      },
      "outputs": [],
      "source": [
        "S0=100; K=100; r=0.05; sigma=0.2; T=1"
      ]
    },
    {
      "cell_type": "markdown",
      "id": "8e4eeb14",
      "metadata": {
        "id": "8e4eeb14"
      },
      "source": [
        "The Black-Scholes formula requires the use of a cumulative distribution function (of a standard normal distribution). The simplest way to handle this is with the command **norm.cdf** included in the statistical package **scipy.stats**, which we need to import."
      ]
    },
    {
      "cell_type": "code",
      "execution_count": null,
      "id": "36f903dd-369f-4f1f-8b98-f2eaeed005a6",
      "metadata": {
        "tags": [],
        "id": "36f903dd-369f-4f1f-8b98-f2eaeed005a6"
      },
      "outputs": [],
      "source": [
        "import numpy as np\n",
        "import scipy.stats as ss\n",
        "from matplotlib import pyplot as plt"
      ]
    },
    {
      "cell_type": "markdown",
      "id": "d0b693ee-3e5d-4d9d-ac2c-6e6ba8fd8b9e",
      "metadata": {
        "id": "d0b693ee-3e5d-4d9d-ac2c-6e6ba8fd8b9e"
      },
      "source": [
        "We need to define three Python functions. The first one gives a call's price, the second one computes a put's price, and the third one obtains the put's price form the put-call parity relationship. Recall that the Black-Scholes formula uses $d_1$ and $d_2$, which we compute separately to simplify the code. To find the options's prices for the give initial values, the last line of the code simply calls the functions.\n",
        "\n",
        "Call option price:"
      ]
    },
    {
      "cell_type": "code",
      "execution_count": null,
      "id": "935fe2ce-c79e-4bed-9317-e43516f3f60d",
      "metadata": {
        "tags": [],
        "id": "935fe2ce-c79e-4bed-9317-e43516f3f60d"
      },
      "outputs": [],
      "source": [
        "def BS_call(S0,K,r,sigma,T):\n",
        "    d1 = (np.log(S0/K) + (r + sigma**2/2)*T)/(sigma*np.sqrt(T))\n",
        "    d2 = (np.log(S0/K) + (r - sigma**2/2)*T)/(sigma*np.sqrt(T))\n",
        "    call_price = S0 * ss.norm.cdf(d1) - K*np.exp(-r*T) * ss.norm.cdf(d2)\n",
        "    return call_price\n",
        "\n",
        "BS_call(S0,K,r,sigma,T)"
      ]
    },
    {
      "cell_type": "markdown",
      "id": "489ab7d3",
      "metadata": {
        "id": "489ab7d3"
      },
      "source": [
        "Put option price:"
      ]
    },
    {
      "cell_type": "code",
      "execution_count": null,
      "id": "da14a85b",
      "metadata": {
        "id": "da14a85b"
      },
      "outputs": [],
      "source": [
        "\n",
        "def BS_put(S0,K,r,sigma,T):\n",
        "    d1 = (np.log(S0/K) + (r + sigma**2/2)*T)/(sigma*np.sqrt(T))\n",
        "    d2 = (np.log(S0/K) + (r - sigma**2/2)*T)/(sigma*np.sqrt(T))\n",
        "    call_price = K*np.exp(-r*T) * ss.norm.cdf(-d2) - S0 * ss.norm.cdf(-d1)\n",
        "    return call_price\n",
        "\n",
        "BS_put(S0,K,r,sigma,T)"
      ]
    },
    {
      "cell_type": "markdown",
      "id": "5af19c5e",
      "metadata": {
        "id": "5af19c5e"
      },
      "source": [
        "Put price using put-call parity:"
      ]
    },
    {
      "cell_type": "code",
      "execution_count": null,
      "id": "a38659f3",
      "metadata": {
        "id": "a38659f3"
      },
      "outputs": [],
      "source": [
        "\n",
        "def BSput_parity(S0,K,r,sigma,T):\n",
        "    put_parity = BS_call(S0,K,r,sigma,T) - S0 + np.exp(-r*T)*K\n",
        "    return put_parity\n",
        "\n",
        "BSput_parity(S0,K,r,sigma,T)"
      ]
    },
    {
      "cell_type": "markdown",
      "id": "24a23c94",
      "metadata": {
        "id": "24a23c94"
      },
      "source": [
        "### (2) Using Monte Carlo Simulation"
      ]
    },
    {
      "cell_type": "markdown",
      "id": "0f8c7e7f",
      "metadata": {
        "id": "0f8c7e7f"
      },
      "source": [
        "In this section we use the same initial values:"
      ]
    },
    {
      "cell_type": "code",
      "execution_count": null,
      "id": "4748d34a",
      "metadata": {
        "id": "4748d34a"
      },
      "outputs": [],
      "source": [
        "import numpy as np\n",
        "from matplotlib import pyplot as plt\n",
        "\n",
        "S0=100; K=100; r=0.05; sigma=0.2; T=1"
      ]
    },
    {
      "cell_type": "markdown",
      "id": "9b351ac0-79ee-44af-8dbe-2893e8f536fc",
      "metadata": {
        "id": "9b351ac0-79ee-44af-8dbe-2893e8f536fc"
      },
      "source": [
        "We run $n$ trajectories (scenarios) of the stock price, compute the __payoff__ at maturity, calculate the mean of the payoffs, and discount the mean to present value."
      ]
    },
    {
      "cell_type": "code",
      "execution_count": null,
      "id": "9ee16133",
      "metadata": {
        "id": "9ee16133"
      },
      "outputs": [],
      "source": [
        "n = 1000\n",
        "z = np.random.normal(0,1,n)\n",
        "S = S0*np.exp( (r-sigma**2/2)*T + sigma*np.sqrt(T)*z )\n",
        "payoff = np.maximum(S-K,0)\n",
        "call_price = np.exp(-r*T)*np.mean(payoff)\n",
        "\n",
        "print(f'price: {call_price:.5f}')"
      ]
    },
    {
      "cell_type": "markdown",
      "id": "b23ae9bd",
      "metadata": {
        "id": "b23ae9bd"
      },
      "source": [
        "The code above does not give us information regarding how accurate the price is. For this, we need to compute the mean standard error."
      ]
    },
    {
      "cell_type": "code",
      "execution_count": null,
      "id": "8d4442da",
      "metadata": {
        "id": "8d4442da"
      },
      "outputs": [],
      "source": [
        "mse = np.std(payoff) / np.sqrt(n)\n",
        "\n",
        "print(f'price: {call_price:<13.5f} MSE: {mse:<10.3f} MSE/price: {mse/call_price:.3f}')"
      ]
    },
    {
      "cell_type": "markdown",
      "id": "b52f2ab0",
      "metadata": {
        "id": "b52f2ab0"
      },
      "source": [
        "With 1,000 scenarios, the call's price is not very precise (the ratio MSE/price is around 4.6%, which is high).\n",
        "\n",
        "We now compute the option's price running an increasing number of scenarios, and compare with the Black-Scholes formula."
      ]
    },
    {
      "cell_type": "code",
      "execution_count": null,
      "id": "10a88a3c",
      "metadata": {
        "id": "10a88a3c"
      },
      "outputs": [],
      "source": [
        "for n in[100, 1000, 10000, 25000, 100000, 1000000]:\n",
        "    z=np.random.normal(0,1,n)\n",
        "    S=S0*np.exp( (r-sigma**2/2)*T + sigma*np.sqrt(T)*z )\n",
        "    payoff=np.maximum(S-K,0)\n",
        "    call_price = np.exp(-r*T)*np.mean(payoff)\n",
        "    mse = np.std(payoff) / np.sqrt(n)\n",
        "\n",
        "    print(f'price: {call_price:<13.5f} MSE: {mse:<10.3f} n: {n:<11} MSE/price: {mse/call_price:.3f}')\n",
        "\n",
        "print('BS:    10.45058')"
      ]
    }
  ],
  "metadata": {
    "kernelspec": {
      "display_name": "Python 3 (ipykernel)",
      "language": "python",
      "name": "python3"
    },
    "language_info": {
      "codemirror_mode": {
        "name": "ipython",
        "version": 3
      },
      "file_extension": ".py",
      "mimetype": "text/x-python",
      "name": "python",
      "nbconvert_exporter": "python",
      "pygments_lexer": "ipython3",
      "version": "3.9.16"
    },
    "toc-autonumbering": false,
    "colab": {
      "provenance": [],
      "include_colab_link": true
    }
  },
  "nbformat": 4,
  "nbformat_minor": 5
}