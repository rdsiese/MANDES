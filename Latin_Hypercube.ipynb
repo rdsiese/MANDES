{
  "cells": [
    {
      "cell_type": "markdown",
      "metadata": {
        "id": "view-in-github",
        "colab_type": "text"
      },
      "source": [
        "<a href=\"https://colab.research.google.com/github/rdsiese/MANDES/blob/main/Latin_Hypercube.ipynb\" target=\"_parent\"><img src=\"https://colab.research.google.com/assets/colab-badge.svg\" alt=\"Open In Colab\"/></a>"
      ]
    },
    {
      "cell_type": "markdown",
      "id": "33b4571b-c7d6-405a-a067-b95b8765d3ff",
      "metadata": {
        "id": "33b4571b-c7d6-405a-a067-b95b8765d3ff"
      },
      "source": [
        "# Latin Hypercube Sampling (LHS)"
      ]
    },
    {
      "cell_type": "markdown",
      "id": "c46af43f",
      "metadata": {
        "id": "c46af43f"
      },
      "source": [
        "When sampling from a distribution, computers sample from a Uniform(0,1) that represents the vertical axis $[0,1]$ of the cumulative probability distribution. They then take the inverse cumulative distribution ($\\texttt{ppf}$ in $\\texttt{scipy.stats}$) to obtain the values of the variable. The sampling can be random or stratified, which is more regular.\n",
        "\n",
        "Stratified sampling can be implemented with different packages. We will use the *Design Of Experiments* package $\\texttt{pyDOE2}$.  "
      ]
    },
    {
      "cell_type": "code",
      "execution_count": null,
      "id": "baac222f",
      "metadata": {
        "id": "baac222f"
      },
      "outputs": [],
      "source": [
        "!pip install pyDOE2"
      ]
    },
    {
      "cell_type": "markdown",
      "id": "feba8ec8",
      "metadata": {
        "id": "feba8ec8"
      },
      "source": [
        "From this package we will use the *Latin Hypercube Sampling* function $\\texttt{lhs}$."
      ]
    },
    {
      "cell_type": "code",
      "execution_count": null,
      "id": "aa429ef5",
      "metadata": {
        "id": "aa429ef5"
      },
      "outputs": [],
      "source": [
        "import numpy as np\n",
        "from scipy.stats import norm\n",
        "from pyDOE2 import lhs\n",
        "import matplotlib.pyplot as plt"
      ]
    },
    {
      "cell_type": "markdown",
      "id": "7335c7f6",
      "metadata": {
        "id": "7335c7f6"
      },
      "source": [
        "To show the difference between random (regular) sampling and LHS, let's generate a sample of a $N(0,1)$ distribution with both methods. The following code uses random sampling."
      ]
    },
    {
      "cell_type": "code",
      "execution_count": null,
      "id": "36f903dd-369f-4f1f-8b98-f2eaeed005a6",
      "metadata": {
        "tags": [],
        "id": "36f903dd-369f-4f1f-8b98-f2eaeed005a6"
      },
      "outputs": [],
      "source": [
        "n = 1000\n",
        "z=np.random.normal(0,1,n)\n",
        "\n",
        "plt.figure(figsize=(5,3))\n",
        "plt.title('Random Sampling from a N(0,1)')\n",
        "plt.hist(z, bins=50, edgecolor='white');"
      ]
    },
    {
      "cell_type": "markdown",
      "id": "d0b693ee-3e5d-4d9d-ac2c-6e6ba8fd8b9e",
      "metadata": {
        "id": "d0b693ee-3e5d-4d9d-ac2c-6e6ba8fd8b9e"
      },
      "source": [
        "We now do the same operation, but with latin hypercube sampling."
      ]
    },
    {
      "cell_type": "code",
      "execution_count": null,
      "id": "935fe2ce-c79e-4bed-9317-e43516f3f60d",
      "metadata": {
        "tags": [],
        "id": "935fe2ce-c79e-4bed-9317-e43516f3f60d"
      },
      "outputs": [],
      "source": [
        "n = 1000\n",
        "lhs_samples = lhs(1, samples=n)\n",
        "z = norm.ppf(lhs_samples)\n",
        "\n",
        "plt.figure(figsize=(5,3))\n",
        "plt.title('Lating Hypercube Sampling from a N(0,1)')\n",
        "plt.hist(z, bins=50, edgecolor='white');"
      ]
    },
    {
      "cell_type": "markdown",
      "id": "d0ff0a23",
      "metadata": {
        "id": "d0ff0a23"
      },
      "source": [
        "## Option Pricing with LHS"
      ]
    },
    {
      "cell_type": "markdown",
      "id": "c6c10122",
      "metadata": {
        "id": "c6c10122"
      },
      "source": [
        "To price the calls, we will define two functions, one for each method. The code will be the same within each function, except the sampling from the $N(0,1)$ distributions."
      ]
    },
    {
      "cell_type": "code",
      "execution_count": null,
      "id": "523bd093",
      "metadata": {
        "id": "523bd093"
      },
      "outputs": [],
      "source": [
        "def RS_call(S0,K,r,sigma,T,n):              # RS = Random Sampling\n",
        "    payoff=np.zeros(n)\n",
        "    S=np.zeros(n)\n",
        "    z=np.random.normal(0,1,n)\n",
        "    S=S0*np.exp( (r-sigma**2/2)*T + sigma*np.sqrt(T)*z )\n",
        "    payoff=np.maximum(S-K,0)\n",
        "    call = np.exp(-r*T)*np.mean(payoff)\n",
        "    return call"
      ]
    },
    {
      "cell_type": "code",
      "execution_count": null,
      "id": "6ab78e91",
      "metadata": {
        "id": "6ab78e91"
      },
      "outputs": [],
      "source": [
        "def LH_call(S0,K,r,sigma,T,n):              # LH = Latin Hypercube Sampling\n",
        "    payoff=np.zeros(n)\n",
        "    S=np.zeros(n)\n",
        "    lhs_samples = lhs(1, samples=n)\n",
        "    z = norm.ppf(lhs_samples)\n",
        "    S=S0*np.exp( (r-sigma**2/2)*T + sigma*np.sqrt(T)*z )\n",
        "    payoff=np.maximum(S-K,0)\n",
        "    call = np.exp(-r*T)*np.mean(payoff)\n",
        "    return call"
      ]
    },
    {
      "cell_type": "markdown",
      "id": "aa4cd9e4",
      "metadata": {
        "id": "aa4cd9e4"
      },
      "source": [
        "We introduce the values of the parameters and compute the prices with each method, running only 1,000 scenarios. We compare the results with the Black-Scholes price."
      ]
    },
    {
      "cell_type": "code",
      "execution_count": null,
      "id": "c8825783",
      "metadata": {
        "id": "c8825783"
      },
      "outputs": [],
      "source": [
        "S0=100; K=100; r=0.05; sigma=0.2; T=1"
      ]
    },
    {
      "cell_type": "code",
      "execution_count": null,
      "id": "425adbea",
      "metadata": {
        "id": "425adbea"
      },
      "outputs": [],
      "source": [
        "n=1000\n",
        "\n",
        "RS_price = RS_call(S0, K, r, sigma, T, n)\n",
        "LH_price = LH_call(S0, K, r, sigma, T, n)\n",
        "\n",
        "print(f'RS_price:  {RS_price:<12.5f} n: {n:<10}')\n",
        "print(f'LH_price:  {LH_price:<12.5f}')\n",
        "print('price_BS:  10.45058')"
      ]
    },
    {
      "cell_type": "markdown",
      "id": "b52f2ab0",
      "metadata": {
        "id": "b52f2ab0"
      },
      "source": [
        "Note how with **only 1,000 scenarios** the LHS option price is already quite close to the Black-Scholes price. Let's compute the prices with larger values of $n$."
      ]
    },
    {
      "cell_type": "code",
      "execution_count": null,
      "id": "58c2f2ac",
      "metadata": {
        "id": "58c2f2ac"
      },
      "outputs": [],
      "source": [
        "n=10000\n",
        "\n",
        "RS_price = RS_call(S0, K, r, sigma, T, n)\n",
        "LH_price = LH_call(S0, K, r, sigma, T, n)\n",
        "\n",
        "print(f'RS_price:  {RS_price:<12.5f} n: {n:<10}')\n",
        "print(f'LH_price:  {LH_price:<12.5f}')\n",
        "print('price_BS:  10.45058')"
      ]
    },
    {
      "cell_type": "code",
      "execution_count": null,
      "id": "9a35842a",
      "metadata": {
        "id": "9a35842a"
      },
      "outputs": [],
      "source": [
        "n=50000\n",
        "\n",
        "RS_price = RS_call(S0, K, r, sigma, T, n)\n",
        "LH_price = LH_call(S0, K, r, sigma, T, n)\n",
        "\n",
        "print(f'RS_price:  {RS_price:<12.5f} n: {n:<10}')\n",
        "print(f'LH_price:  {LH_price:<12.5f}')\n",
        "print('price_BS:  10.45058')"
      ]
    },
    {
      "cell_type": "markdown",
      "id": "aa1f9145",
      "metadata": {
        "id": "aa1f9145"
      },
      "source": []
    }
  ],
  "metadata": {
    "kernelspec": {
      "display_name": "Python 3 (ipykernel)",
      "language": "python",
      "name": "python3"
    },
    "language_info": {
      "codemirror_mode": {
        "name": "ipython",
        "version": 3
      },
      "file_extension": ".py",
      "mimetype": "text/x-python",
      "name": "python",
      "nbconvert_exporter": "python",
      "pygments_lexer": "ipython3",
      "version": "3.9.16"
    },
    "toc-autonumbering": false,
    "colab": {
      "provenance": [],
      "include_colab_link": true
    }
  },
  "nbformat": 4,
  "nbformat_minor": 5
}