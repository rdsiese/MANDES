{
  "cells": [
    {
      "cell_type": "markdown",
      "metadata": {
        "id": "view-in-github",
        "colab_type": "text"
      },
      "source": [
        "<a href=\"https://colab.research.google.com/github/rdsiese/MANDES/blob/main/5_Spread_options.ipynb\" target=\"_parent\"><img src=\"https://colab.research.google.com/assets/colab-badge.svg\" alt=\"Open In Colab\"/></a>"
      ]
    },
    {
      "cell_type": "markdown",
      "id": "33b4571b-c7d6-405a-a067-b95b8765d3ff",
      "metadata": {
        "id": "33b4571b-c7d6-405a-a067-b95b8765d3ff"
      },
      "source": [
        "# Spread Options"
      ]
    },
    {
      "cell_type": "markdown",
      "id": "c46af43f",
      "metadata": {
        "id": "c46af43f"
      },
      "source": [
        "Consider two assets whose prices can be modeled (under a risk-neutral probability) as:\n",
        "\n",
        "$S_{1t} = S_{10} e^{(r - \\sigma_1^2/2) + \\sigma_1\\sqrt{t}z_{1t}}$\n",
        "\n",
        "$S_{2t} = S_{20} e^{(r - \\sigma_2^2/2) + \\sigma_2\\sqrt{t}z_{2t}}$\n",
        "\n",
        "where $z_1$ and $z_2$ are two correlated standard normal random variables. Let $u$ be another standard normal distribution, independent of $z_1$, and define:\n",
        "\n",
        "$z_2 = \\rho z_1 + \\sqrt{1-\\rho^2} u$,\n",
        "\n",
        "where $\\rho$ is a parameter that may take any value in $[-1,1]$. The correlation between $z_1$ and $z_2$ is therefore $\\text{corr}(z_1,z_2) = \\rho$."
      ]
    },
    {
      "cell_type": "code",
      "execution_count": null,
      "id": "36f903dd-369f-4f1f-8b98-f2eaeed005a6",
      "metadata": {
        "tags": [],
        "id": "36f903dd-369f-4f1f-8b98-f2eaeed005a6"
      },
      "outputs": [],
      "source": [
        "import numpy as np\n",
        "\n",
        "S10=100; S20=100; K=0; r=0.05; sigma1=0.3; sigma2=0.2; T=1; n=10000"
      ]
    },
    {
      "cell_type": "markdown",
      "id": "31c8774c",
      "metadata": {
        "id": "31c8774c"
      },
      "source": [
        "The payoff of a **spread option** is given by $\\max(S_T^2 - S_T^1 - K, 0)$, where $K$ is the strike and $T$ is maturity.\n",
        "\n",
        "In the code below we define a function $\\texttt{Spread\\_Option}$ that returns the option price. We follow these steps:\n",
        "> (1) Create containers to store the asset prices and the payoff ($\\texttt{S1, S2, payoff}$). <br/>(2) Generate the standard normals $z_1$ and $u$. <br/>(3) Build $z_2$ in such a way that $\\text{corr}(z_1,z_2) = \\rho$. <br/>(4) Compute the values at maturity for both assets, $S_{1T}$ and $S_{2T}$. <br/>(5) Compute the mean payoff and discount it to present value."
      ]
    },
    {
      "cell_type": "code",
      "execution_count": null,
      "id": "935fe2ce-c79e-4bed-9317-e43516f3f60d",
      "metadata": {
        "tags": [],
        "id": "935fe2ce-c79e-4bed-9317-e43516f3f60d"
      },
      "outputs": [],
      "source": [
        "def Spread_Option(S10, S20, K, r, sigma1, sigma2, rho, T, n):       # Using Regular Sampling (RS)\n",
        "    S1=np.zeros(n)\n",
        "    S2=np.zeros(n)\n",
        "    payoff=np.zeros(n)\n",
        "\n",
        "    z1= np.random.normal(0,1,n)\n",
        "    u = np.random.normal(0,1,n)\n",
        "    z2= rho*z1 + np.sqrt(1-rho**2)*u\n",
        "\n",
        "    S1=S10*np.exp((r-0.5*sigma1**2)*T + sigma1*np.sqrt(T)*z1)   #Price at T\n",
        "    S2=S20*np.exp((r-0.5*sigma2**2)*T + sigma2*np.sqrt(T)*z2)   #Price at T\n",
        "\n",
        "    payoff=np.maximum(S1-S2-K, 0)\n",
        "    return np.exp(-r*T)*np.mean(payoff)"
      ]
    },
    {
      "cell_type": "markdown",
      "id": "4175feff-072d-40e6-a7d9-ba43059a11a6",
      "metadata": {
        "id": "4175feff-072d-40e6-a7d9-ba43059a11a6"
      },
      "source": [
        "For different values of the correlation coefficient $\\rho$ we use the function above ($\\texttt{Spread\\_Option}$) to calculate the spread option price."
      ]
    },
    {
      "cell_type": "code",
      "execution_count": null,
      "id": "751934d6-3097-40f4-9fc4-ffb8e9f186b0",
      "metadata": {
        "tags": [],
        "id": "751934d6-3097-40f4-9fc4-ffb8e9f186b0"
      },
      "outputs": [],
      "source": [
        "for rho in np.arange(0,1,0.1).round(1):\n",
        "    print(f'corr: {rho:<7.1f} price: {Spread_Option(S10,S20,K,r,sigma1,sigma2,rho,T,n):.5f}')"
      ]
    },
    {
      "cell_type": "markdown",
      "id": "420978be",
      "metadata": {
        "id": "420978be"
      },
      "source": [
        "### The Spread Option Price with Latin Hypercube Sampling (LHS)"
      ]
    },
    {
      "cell_type": "markdown",
      "id": "76de45de",
      "metadata": {
        "id": "76de45de"
      },
      "source": [
        "To compute the option price with LHS we need to import new packages."
      ]
    },
    {
      "cell_type": "code",
      "execution_count": null,
      "id": "a231f936",
      "metadata": {
        "id": "a231f936"
      },
      "outputs": [],
      "source": [
        "%pip install pyDOE2\n",
        "from pyDOE2 import lhs\n",
        "from scipy.stats import norm"
      ]
    },
    {
      "cell_type": "markdown",
      "id": "bc3859c0",
      "metadata": {
        "id": "bc3859c0"
      },
      "source": [
        "The function $\\texttt{LH\\_Spread}$ below computes the price of the spread option using LHS."
      ]
    },
    {
      "cell_type": "code",
      "execution_count": null,
      "id": "837a2a5a",
      "metadata": {
        "id": "837a2a5a"
      },
      "outputs": [],
      "source": [
        "def LH_Spread(S10, S20, K, r, sigma1, sigma2, rho, T, n):       # Using latin hypercube sampling (LHS)\n",
        "    S1=np.zeros(n)\n",
        "    S2=np.zeros(n)\n",
        "    payoff=np.zeros(n)\n",
        "\n",
        "    lhs_samples = lhs(1, samples=n)\n",
        "    z1 = norm.ppf(lhs_samples)\n",
        "    lhs_samples = lhs(1, samples=n)\n",
        "    u = norm.ppf(lhs_samples)\n",
        "    z2= rho*z1 + np.sqrt(1-rho**2)*u\n",
        "\n",
        "    S1=S10*np.exp((r-0.5*sigma1**2)*T + sigma1*np.sqrt(T)*z1)   #Price at T\n",
        "    S2=S20*np.exp((r-0.5*sigma2**2)*T + sigma2*np.sqrt(T)*z2)   #Price at T\n",
        "\n",
        "    payoff=np.maximum(S1-S2-K, 0)\n",
        "    return np.exp(-r*T)*np.mean(payoff)\n",
        "\n",
        "for rho in np.arange(0,1,0.1).round(1):\n",
        "    print(f'corr: {rho:<7.1f} price: {LH_Spread(S10,S20,K,r,sigma1,sigma2,rho,T,n):.5f}')"
      ]
    }
  ],
  "metadata": {
    "kernelspec": {
      "display_name": "Python 3 (ipykernel)",
      "language": "python",
      "name": "python3"
    },
    "language_info": {
      "codemirror_mode": {
        "name": "ipython",
        "version": 3
      },
      "file_extension": ".py",
      "mimetype": "text/x-python",
      "name": "python",
      "nbconvert_exporter": "python",
      "pygments_lexer": "ipython3",
      "version": "3.9.16"
    },
    "toc-autonumbering": false,
    "colab": {
      "provenance": [],
      "include_colab_link": true
    }
  },
  "nbformat": 4,
  "nbformat_minor": 5
}